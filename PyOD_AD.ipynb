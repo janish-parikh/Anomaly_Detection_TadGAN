{
  "nbformat": 4,
  "nbformat_minor": 0,
  "metadata": {
    "colab": {
      "provenance": []
    },
    "kernelspec": {
      "name": "python3",
      "display_name": "Python 3"
    },
    "language_info": {
      "name": "python"
    },
    "accelerator": "GPU",
    "gpuClass": "standard"
  },
  "cells": [
    {
      "cell_type": "markdown",
      "source": [
        "### Introduction"
      ],
      "metadata": {
        "id": "cjPio1DaYVdd"
      }
    },
    {
      "cell_type": "markdown",
      "source": [
        "### Import Packages"
      ],
      "metadata": {
        "id": "e6d-Wy3UWv-E"
      }
    },
    {
      "cell_type": "code",
      "source": [
        "!pip install pyod"
      ],
      "metadata": {
        "colab": {
          "base_uri": "https://localhost:8080/"
        },
        "id": "oLR-oACbW-z4",
        "outputId": "22305d99-9753-41ef-c760-a39bdd239395"
      },
      "execution_count": 2,
      "outputs": [
        {
          "output_type": "stream",
          "name": "stdout",
          "text": [
            "Looking in indexes: https://pypi.org/simple, https://us-python.pkg.dev/colab-wheels/public/simple/\n",
            "Collecting pyod\n",
            "  Using cached pyod-1.0.6.tar.gz (141 kB)\n",
            "Requirement already satisfied: joblib in /usr/local/lib/python3.8/dist-packages (from pyod) (1.2.0)\n",
            "Requirement already satisfied: matplotlib in /usr/local/lib/python3.8/dist-packages (from pyod) (3.2.2)\n",
            "Requirement already satisfied: numpy>=1.19 in /usr/local/lib/python3.8/dist-packages (from pyod) (1.21.6)\n",
            "Requirement already satisfied: numba>=0.51 in /usr/local/lib/python3.8/dist-packages (from pyod) (0.56.4)\n",
            "Requirement already satisfied: scipy>=1.5.1 in /usr/local/lib/python3.8/dist-packages (from pyod) (1.7.3)\n",
            "Requirement already satisfied: scikit_learn>=0.20.0 in /usr/local/lib/python3.8/dist-packages (from pyod) (1.0.2)\n",
            "Requirement already satisfied: six in /usr/local/lib/python3.8/dist-packages (from pyod) (1.15.0)\n",
            "Requirement already satisfied: statsmodels in /usr/local/lib/python3.8/dist-packages (from pyod) (0.12.2)\n",
            "Requirement already satisfied: llvmlite<0.40,>=0.39.0dev0 in /usr/local/lib/python3.8/dist-packages (from numba>=0.51->pyod) (0.39.1)\n",
            "Requirement already satisfied: setuptools in /usr/local/lib/python3.8/dist-packages (from numba>=0.51->pyod) (57.4.0)\n",
            "Requirement already satisfied: importlib-metadata in /usr/local/lib/python3.8/dist-packages (from numba>=0.51->pyod) (4.13.0)\n",
            "Requirement already satisfied: threadpoolctl>=2.0.0 in /usr/local/lib/python3.8/dist-packages (from scikit_learn>=0.20.0->pyod) (3.1.0)\n",
            "Requirement already satisfied: zipp>=0.5 in /usr/local/lib/python3.8/dist-packages (from importlib-metadata->numba>=0.51->pyod) (3.11.0)\n",
            "Requirement already satisfied: python-dateutil>=2.1 in /usr/local/lib/python3.8/dist-packages (from matplotlib->pyod) (2.8.2)\n",
            "Requirement already satisfied: cycler>=0.10 in /usr/local/lib/python3.8/dist-packages (from matplotlib->pyod) (0.11.0)\n",
            "Requirement already satisfied: kiwisolver>=1.0.1 in /usr/local/lib/python3.8/dist-packages (from matplotlib->pyod) (1.4.4)\n",
            "Requirement already satisfied: pyparsing!=2.0.4,!=2.1.2,!=2.1.6,>=2.0.1 in /usr/local/lib/python3.8/dist-packages (from matplotlib->pyod) (3.0.9)\n",
            "Requirement already satisfied: pandas>=0.21 in /usr/local/lib/python3.8/dist-packages (from statsmodels->pyod) (1.3.5)\n",
            "Requirement already satisfied: patsy>=0.5 in /usr/local/lib/python3.8/dist-packages (from statsmodels->pyod) (0.5.3)\n",
            "Requirement already satisfied: pytz>=2017.3 in /usr/local/lib/python3.8/dist-packages (from pandas>=0.21->statsmodels->pyod) (2022.6)\n",
            "Building wheels for collected packages: pyod\n",
            "  Building wheel for pyod (setup.py) ... \u001b[?25l\u001b[?25hdone\n",
            "  Created wheel for pyod: filename=pyod-1.0.6-py3-none-any.whl size=175098 sha256=f4c46e279071f3fa854b1cd3f5353bbbee018a27265b53671c647b5b164b69da\n",
            "  Stored in directory: /root/.cache/pip/wheels/98/93/e6/6d40410d9635ecde42d06041a1ba7f2ee7396e036fcf702e73\n",
            "Successfully built pyod\n",
            "Installing collected packages: pyod\n",
            "Successfully installed pyod-1.0.6\n"
          ]
        }
      ]
    },
    {
      "cell_type": "code",
      "source": [
        "import os\n",
        "import sys\n",
        "import pandas as pd\n",
        "import numpy as np\n",
        "import datetime\n",
        "from matplotlib import pyplot as plt\n",
        "import seaborn as sns\n",
        "import pyod\n",
        "from IPython.display import display, Markdown\n",
        "\n",
        "import warnings\n",
        "warnings.filterwarnings('ignore')"
      ],
      "metadata": {
        "id": "_jaBFY4XWy1j"
      },
      "execution_count": 3,
      "outputs": []
    },
    {
      "cell_type": "markdown",
      "source": [
        "### Data Loading"
      ],
      "metadata": {
        "id": "oOxsBC18XxkE"
      }
    },
    {
      "cell_type": "code",
      "source": [
        "from google.colab import drive\n",
        "drive.mount('/content/drive')"
      ],
      "metadata": {
        "id": "UTLPVr37X2zB",
        "colab": {
          "base_uri": "https://localhost:8080/"
        },
        "outputId": "d8cfd60b-0d7e-49ce-9265-c93cb0287992"
      },
      "execution_count": 4,
      "outputs": [
        {
          "output_type": "stream",
          "name": "stdout",
          "text": [
            "Mounted at /content/drive\n"
          ]
        }
      ]
    },
    {
      "cell_type": "code",
      "source": [
        "# benchmark files checking\n",
        "all_files=[]\n",
        "for root, dirs, files in os.walk(\"/content/drive/MyDrive/SKAB-master/data\"):\n",
        "    for file in files:\n",
        "        if file.endswith(\".csv\"):\n",
        "             all_files.append(os.path.join(root, file))"
      ],
      "metadata": {
        "id": "ba5Fc4lRXzh4"
      },
      "execution_count": 5,
      "outputs": []
    },
    {
      "cell_type": "code",
      "source": [
        "all_files"
      ],
      "metadata": {
        "colab": {
          "base_uri": "https://localhost:8080/"
        },
        "id": "D2sH83NlYnp7",
        "outputId": "0180739c-cc56-4537-d309-27661943192a"
      },
      "execution_count": 6,
      "outputs": [
        {
          "output_type": "execute_result",
          "data": {
            "text/plain": [
              "['/content/drive/MyDrive/SKAB-master/data/valve2/0.csv',\n",
              " '/content/drive/MyDrive/SKAB-master/data/valve2/3.csv',\n",
              " '/content/drive/MyDrive/SKAB-master/data/valve2/1.csv',\n",
              " '/content/drive/MyDrive/SKAB-master/data/valve2/2.csv',\n",
              " '/content/drive/MyDrive/SKAB-master/data/anomaly-free/anomaly-free.csv',\n",
              " '/content/drive/MyDrive/SKAB-master/data/other/11.csv',\n",
              " '/content/drive/MyDrive/SKAB-master/data/other/3.csv',\n",
              " '/content/drive/MyDrive/SKAB-master/data/other/6.csv',\n",
              " '/content/drive/MyDrive/SKAB-master/data/other/2.csv',\n",
              " '/content/drive/MyDrive/SKAB-master/data/other/12.csv',\n",
              " '/content/drive/MyDrive/SKAB-master/data/other/8.csv',\n",
              " '/content/drive/MyDrive/SKAB-master/data/other/10.csv',\n",
              " '/content/drive/MyDrive/SKAB-master/data/other/1.csv',\n",
              " '/content/drive/MyDrive/SKAB-master/data/other/9.csv',\n",
              " '/content/drive/MyDrive/SKAB-master/data/other/13.csv',\n",
              " '/content/drive/MyDrive/SKAB-master/data/other/4.csv',\n",
              " '/content/drive/MyDrive/SKAB-master/data/other/7.csv',\n",
              " '/content/drive/MyDrive/SKAB-master/data/other/5.csv',\n",
              " '/content/drive/MyDrive/SKAB-master/data/other/14.csv',\n",
              " '/content/drive/MyDrive/SKAB-master/data/valve1/6.csv',\n",
              " '/content/drive/MyDrive/SKAB-master/data/valve1/5.csv',\n",
              " '/content/drive/MyDrive/SKAB-master/data/valve1/3.csv',\n",
              " '/content/drive/MyDrive/SKAB-master/data/valve1/15.csv',\n",
              " '/content/drive/MyDrive/SKAB-master/data/valve1/12.csv',\n",
              " '/content/drive/MyDrive/SKAB-master/data/valve1/2.csv',\n",
              " '/content/drive/MyDrive/SKAB-master/data/valve1/10.csv',\n",
              " '/content/drive/MyDrive/SKAB-master/data/valve1/8.csv',\n",
              " '/content/drive/MyDrive/SKAB-master/data/valve1/14.csv',\n",
              " '/content/drive/MyDrive/SKAB-master/data/valve1/13.csv',\n",
              " '/content/drive/MyDrive/SKAB-master/data/valve1/1.csv',\n",
              " '/content/drive/MyDrive/SKAB-master/data/valve1/9.csv',\n",
              " '/content/drive/MyDrive/SKAB-master/data/valve1/11.csv',\n",
              " '/content/drive/MyDrive/SKAB-master/data/valve1/7.csv',\n",
              " '/content/drive/MyDrive/SKAB-master/data/valve1/4.csv',\n",
              " '/content/drive/MyDrive/SKAB-master/data/valve1/0.csv']"
            ]
          },
          "metadata": {},
          "execution_count": 6
        }
      ]
    },
    {
      "cell_type": "code",
      "source": [
        "# anomaly-free df loading\n",
        "anomaly_free_df = pd.read_csv([file for file in all_files if 'anomaly-free' in file][0], \n",
        "                            sep=';', \n",
        "                            index_col='datetime', \n",
        "                            parse_dates=True)"
      ],
      "metadata": {
        "id": "ldqaK9QVYnMn"
      },
      "execution_count": 7,
      "outputs": []
    },
    {
      "cell_type": "code",
      "source": [
        "anomaly_free_df"
      ],
      "metadata": {
        "colab": {
          "base_uri": "https://localhost:8080/",
          "height": 455
        },
        "id": "3AAok4YzYzsq",
        "outputId": "6e3fcf54-02eb-41bc-fa7d-40b5f11ba73f"
      },
      "execution_count": 8,
      "outputs": [
        {
          "output_type": "execute_result",
          "data": {
            "text/plain": [
              "                     Accelerometer1RMS  Accelerometer2RMS  Current  Pressure  \\\n",
              "datetime                                                                       \n",
              "2020-02-08 13:30:47           0.202394           0.275154  2.16975  0.382638   \n",
              "2020-02-08 13:30:48           0.203153           0.277857  2.07999 -0.273216   \n",
              "2020-02-08 13:30:50           0.202054           0.275790  2.52577  0.382638   \n",
              "2020-02-08 13:30:51           0.203595           0.278101  2.49742  0.054711   \n",
              "2020-02-08 13:30:52           0.201889           0.276363  2.29194  0.710565   \n",
              "...                                ...                ...      ...       ...   \n",
              "2020-02-08 16:16:43           0.225744           0.267921  2.91598  0.054711   \n",
              "2020-02-08 16:16:44           0.205870           0.258370  1.71505  0.710565   \n",
              "2020-02-08 16:16:45           0.219222           0.267244  2.35834 -0.273216   \n",
              "2020-02-08 16:16:46           0.219481           0.271278  2.49108  0.054711   \n",
              "2020-02-08 16:16:47           0.219436           0.270046  2.43108  0.382638   \n",
              "\n",
              "                     Temperature  Thermocouple  Voltage  Volume Flow RateRMS  \n",
              "datetime                                                                      \n",
              "2020-02-08 13:30:47      90.6454       26.8508  238.852              122.664  \n",
              "2020-02-08 13:30:48      90.7978       26.8639  227.943              122.338  \n",
              "2020-02-08 13:30:50      90.7730       26.8603  223.486              121.338  \n",
              "2020-02-08 13:30:51      90.8424       26.8616  244.904              121.664  \n",
              "2020-02-08 13:30:52      90.6664       26.8603  239.196              122.000  \n",
              "...                          ...           ...      ...                  ...  \n",
              "2020-02-08 16:16:43      88.8593       29.3792  219.542              126.000  \n",
              "2020-02-08 16:16:44      89.1754       29.3692  221.862              126.000  \n",
              "2020-02-08 16:16:45      89.1306       29.3674  226.050              126.679  \n",
              "2020-02-08 16:16:46      88.5447       29.3757  226.343              127.000  \n",
              "2020-02-08 16:16:47      89.1161       29.3687  205.473              125.648  \n",
              "\n",
              "[9405 rows x 8 columns]"
            ],
            "text/html": [
              "\n",
              "  <div id=\"df-e908c54c-172e-474e-863c-068fe2da930f\">\n",
              "    <div class=\"colab-df-container\">\n",
              "      <div>\n",
              "<style scoped>\n",
              "    .dataframe tbody tr th:only-of-type {\n",
              "        vertical-align: middle;\n",
              "    }\n",
              "\n",
              "    .dataframe tbody tr th {\n",
              "        vertical-align: top;\n",
              "    }\n",
              "\n",
              "    .dataframe thead th {\n",
              "        text-align: right;\n",
              "    }\n",
              "</style>\n",
              "<table border=\"1\" class=\"dataframe\">\n",
              "  <thead>\n",
              "    <tr style=\"text-align: right;\">\n",
              "      <th></th>\n",
              "      <th>Accelerometer1RMS</th>\n",
              "      <th>Accelerometer2RMS</th>\n",
              "      <th>Current</th>\n",
              "      <th>Pressure</th>\n",
              "      <th>Temperature</th>\n",
              "      <th>Thermocouple</th>\n",
              "      <th>Voltage</th>\n",
              "      <th>Volume Flow RateRMS</th>\n",
              "    </tr>\n",
              "    <tr>\n",
              "      <th>datetime</th>\n",
              "      <th></th>\n",
              "      <th></th>\n",
              "      <th></th>\n",
              "      <th></th>\n",
              "      <th></th>\n",
              "      <th></th>\n",
              "      <th></th>\n",
              "      <th></th>\n",
              "    </tr>\n",
              "  </thead>\n",
              "  <tbody>\n",
              "    <tr>\n",
              "      <th>2020-02-08 13:30:47</th>\n",
              "      <td>0.202394</td>\n",
              "      <td>0.275154</td>\n",
              "      <td>2.16975</td>\n",
              "      <td>0.382638</td>\n",
              "      <td>90.6454</td>\n",
              "      <td>26.8508</td>\n",
              "      <td>238.852</td>\n",
              "      <td>122.664</td>\n",
              "    </tr>\n",
              "    <tr>\n",
              "      <th>2020-02-08 13:30:48</th>\n",
              "      <td>0.203153</td>\n",
              "      <td>0.277857</td>\n",
              "      <td>2.07999</td>\n",
              "      <td>-0.273216</td>\n",
              "      <td>90.7978</td>\n",
              "      <td>26.8639</td>\n",
              "      <td>227.943</td>\n",
              "      <td>122.338</td>\n",
              "    </tr>\n",
              "    <tr>\n",
              "      <th>2020-02-08 13:30:50</th>\n",
              "      <td>0.202054</td>\n",
              "      <td>0.275790</td>\n",
              "      <td>2.52577</td>\n",
              "      <td>0.382638</td>\n",
              "      <td>90.7730</td>\n",
              "      <td>26.8603</td>\n",
              "      <td>223.486</td>\n",
              "      <td>121.338</td>\n",
              "    </tr>\n",
              "    <tr>\n",
              "      <th>2020-02-08 13:30:51</th>\n",
              "      <td>0.203595</td>\n",
              "      <td>0.278101</td>\n",
              "      <td>2.49742</td>\n",
              "      <td>0.054711</td>\n",
              "      <td>90.8424</td>\n",
              "      <td>26.8616</td>\n",
              "      <td>244.904</td>\n",
              "      <td>121.664</td>\n",
              "    </tr>\n",
              "    <tr>\n",
              "      <th>2020-02-08 13:30:52</th>\n",
              "      <td>0.201889</td>\n",
              "      <td>0.276363</td>\n",
              "      <td>2.29194</td>\n",
              "      <td>0.710565</td>\n",
              "      <td>90.6664</td>\n",
              "      <td>26.8603</td>\n",
              "      <td>239.196</td>\n",
              "      <td>122.000</td>\n",
              "    </tr>\n",
              "    <tr>\n",
              "      <th>...</th>\n",
              "      <td>...</td>\n",
              "      <td>...</td>\n",
              "      <td>...</td>\n",
              "      <td>...</td>\n",
              "      <td>...</td>\n",
              "      <td>...</td>\n",
              "      <td>...</td>\n",
              "      <td>...</td>\n",
              "    </tr>\n",
              "    <tr>\n",
              "      <th>2020-02-08 16:16:43</th>\n",
              "      <td>0.225744</td>\n",
              "      <td>0.267921</td>\n",
              "      <td>2.91598</td>\n",
              "      <td>0.054711</td>\n",
              "      <td>88.8593</td>\n",
              "      <td>29.3792</td>\n",
              "      <td>219.542</td>\n",
              "      <td>126.000</td>\n",
              "    </tr>\n",
              "    <tr>\n",
              "      <th>2020-02-08 16:16:44</th>\n",
              "      <td>0.205870</td>\n",
              "      <td>0.258370</td>\n",
              "      <td>1.71505</td>\n",
              "      <td>0.710565</td>\n",
              "      <td>89.1754</td>\n",
              "      <td>29.3692</td>\n",
              "      <td>221.862</td>\n",
              "      <td>126.000</td>\n",
              "    </tr>\n",
              "    <tr>\n",
              "      <th>2020-02-08 16:16:45</th>\n",
              "      <td>0.219222</td>\n",
              "      <td>0.267244</td>\n",
              "      <td>2.35834</td>\n",
              "      <td>-0.273216</td>\n",
              "      <td>89.1306</td>\n",
              "      <td>29.3674</td>\n",
              "      <td>226.050</td>\n",
              "      <td>126.679</td>\n",
              "    </tr>\n",
              "    <tr>\n",
              "      <th>2020-02-08 16:16:46</th>\n",
              "      <td>0.219481</td>\n",
              "      <td>0.271278</td>\n",
              "      <td>2.49108</td>\n",
              "      <td>0.054711</td>\n",
              "      <td>88.5447</td>\n",
              "      <td>29.3757</td>\n",
              "      <td>226.343</td>\n",
              "      <td>127.000</td>\n",
              "    </tr>\n",
              "    <tr>\n",
              "      <th>2020-02-08 16:16:47</th>\n",
              "      <td>0.219436</td>\n",
              "      <td>0.270046</td>\n",
              "      <td>2.43108</td>\n",
              "      <td>0.382638</td>\n",
              "      <td>89.1161</td>\n",
              "      <td>29.3687</td>\n",
              "      <td>205.473</td>\n",
              "      <td>125.648</td>\n",
              "    </tr>\n",
              "  </tbody>\n",
              "</table>\n",
              "<p>9405 rows × 8 columns</p>\n",
              "</div>\n",
              "      <button class=\"colab-df-convert\" onclick=\"convertToInteractive('df-e908c54c-172e-474e-863c-068fe2da930f')\"\n",
              "              title=\"Convert this dataframe to an interactive table.\"\n",
              "              style=\"display:none;\">\n",
              "        \n",
              "  <svg xmlns=\"http://www.w3.org/2000/svg\" height=\"24px\"viewBox=\"0 0 24 24\"\n",
              "       width=\"24px\">\n",
              "    <path d=\"M0 0h24v24H0V0z\" fill=\"none\"/>\n",
              "    <path d=\"M18.56 5.44l.94 2.06.94-2.06 2.06-.94-2.06-.94-.94-2.06-.94 2.06-2.06.94zm-11 1L8.5 8.5l.94-2.06 2.06-.94-2.06-.94L8.5 2.5l-.94 2.06-2.06.94zm10 10l.94 2.06.94-2.06 2.06-.94-2.06-.94-.94-2.06-.94 2.06-2.06.94z\"/><path d=\"M17.41 7.96l-1.37-1.37c-.4-.4-.92-.59-1.43-.59-.52 0-1.04.2-1.43.59L10.3 9.45l-7.72 7.72c-.78.78-.78 2.05 0 2.83L4 21.41c.39.39.9.59 1.41.59.51 0 1.02-.2 1.41-.59l7.78-7.78 2.81-2.81c.8-.78.8-2.07 0-2.86zM5.41 20L4 18.59l7.72-7.72 1.47 1.35L5.41 20z\"/>\n",
              "  </svg>\n",
              "      </button>\n",
              "      \n",
              "  <style>\n",
              "    .colab-df-container {\n",
              "      display:flex;\n",
              "      flex-wrap:wrap;\n",
              "      gap: 12px;\n",
              "    }\n",
              "\n",
              "    .colab-df-convert {\n",
              "      background-color: #E8F0FE;\n",
              "      border: none;\n",
              "      border-radius: 50%;\n",
              "      cursor: pointer;\n",
              "      display: none;\n",
              "      fill: #1967D2;\n",
              "      height: 32px;\n",
              "      padding: 0 0 0 0;\n",
              "      width: 32px;\n",
              "    }\n",
              "\n",
              "    .colab-df-convert:hover {\n",
              "      background-color: #E2EBFA;\n",
              "      box-shadow: 0px 1px 2px rgba(60, 64, 67, 0.3), 0px 1px 3px 1px rgba(60, 64, 67, 0.15);\n",
              "      fill: #174EA6;\n",
              "    }\n",
              "\n",
              "    [theme=dark] .colab-df-convert {\n",
              "      background-color: #3B4455;\n",
              "      fill: #D2E3FC;\n",
              "    }\n",
              "\n",
              "    [theme=dark] .colab-df-convert:hover {\n",
              "      background-color: #434B5C;\n",
              "      box-shadow: 0px 1px 3px 1px rgba(0, 0, 0, 0.15);\n",
              "      filter: drop-shadow(0px 1px 2px rgba(0, 0, 0, 0.3));\n",
              "      fill: #FFFFFF;\n",
              "    }\n",
              "  </style>\n",
              "\n",
              "      <script>\n",
              "        const buttonEl =\n",
              "          document.querySelector('#df-e908c54c-172e-474e-863c-068fe2da930f button.colab-df-convert');\n",
              "        buttonEl.style.display =\n",
              "          google.colab.kernel.accessAllowed ? 'block' : 'none';\n",
              "\n",
              "        async function convertToInteractive(key) {\n",
              "          const element = document.querySelector('#df-e908c54c-172e-474e-863c-068fe2da930f');\n",
              "          const dataTable =\n",
              "            await google.colab.kernel.invokeFunction('convertToInteractive',\n",
              "                                                     [key], {});\n",
              "          if (!dataTable) return;\n",
              "\n",
              "          const docLinkHtml = 'Like what you see? Visit the ' +\n",
              "            '<a target=\"_blank\" href=https://colab.research.google.com/notebooks/data_table.ipynb>data table notebook</a>'\n",
              "            + ' to learn more about interactive tables.';\n",
              "          element.innerHTML = '';\n",
              "          dataTable['output_type'] = 'display_data';\n",
              "          await google.colab.output.renderOutput(dataTable, element);\n",
              "          const docLink = document.createElement('div');\n",
              "          docLink.innerHTML = docLinkHtml;\n",
              "          element.appendChild(docLink);\n",
              "        }\n",
              "      </script>\n",
              "    </div>\n",
              "  </div>\n",
              "  "
            ]
          },
          "metadata": {},
          "execution_count": 8
        }
      ]
    },
    {
      "cell_type": "code",
      "source": [
        "#loading anomalous data\n",
        "anomalous_data = [pd.read_csv(file, \n",
        "                          sep=';', \n",
        "                          index_col='datetime', \n",
        "                          parse_dates=True) for file in all_files if 'anomaly-free' not in file]"
      ],
      "metadata": {
        "id": "RoX0SBp6Y8EU"
      },
      "execution_count": 9,
      "outputs": []
    },
    {
      "cell_type": "markdown",
      "source": [
        "### Data description & Visualization"
      ],
      "metadata": {
        "id": "jTSJfJprZU2A"
      }
    },
    {
      "cell_type": "code",
      "source": [
        "# dataset characteristics printing\n",
        "print(f'A number of datasets in the SkAB v1.0: {len(anomalous_data)}\\n')\n",
        "n_cp = sum([len(df[df.changepoint==1.]) for df in anomalous_data])\n",
        "n_outlier = sum([len(df[df.anomaly==1.]) for df in anomalous_data])\n",
        "print(f'A number of changepoints in the SkAB v1.0: {n_cp}\\n')\n",
        "print(f'A number of outliers in the SkAB v1.0: {n_outlier}\\n')\n",
        "print(f'Head of the dataset:')\n",
        "display(anomalous_data[0].head())"
      ],
      "metadata": {
        "colab": {
          "base_uri": "https://localhost:8080/",
          "height": 507
        },
        "id": "rTKAHL3RZdgr",
        "outputId": "f352f092-3569-4bb8-cc38-90ddaf950887"
      },
      "execution_count": 10,
      "outputs": [
        {
          "output_type": "stream",
          "name": "stdout",
          "text": [
            "A number of datasets in the SkAB v1.0: 34\n",
            "\n",
            "A number of changepoints in the SkAB v1.0: 129\n",
            "\n",
            "A number of outliers in the SkAB v1.0: 13067\n",
            "\n",
            "Head of the dataset:\n"
          ]
        },
        {
          "output_type": "display_data",
          "data": {
            "text/plain": [
              "                     Accelerometer1RMS  Accelerometer2RMS   Current  Pressure  \\\n",
              "datetime                                                                        \n",
              "2020-03-09 15:56:30           0.027608           0.039203  1.290480  0.054711   \n",
              "2020-03-09 15:56:31           0.027166           0.039940  1.285650  0.382638   \n",
              "2020-03-09 15:56:32           0.027718           0.040167  1.155880  0.054711   \n",
              "2020-03-09 15:56:33           0.028045           0.038026  0.971268  0.382638   \n",
              "2020-03-09 15:56:34           0.027644           0.038580  1.072460 -0.273216   \n",
              "\n",
              "                     Temperature  Thermocouple  Voltage  Volume Flow RateRMS  \\\n",
              "datetime                                                                       \n",
              "2020-03-09 15:56:30      68.6194       24.3670  241.062              32.0362   \n",
              "2020-03-09 15:56:31      68.5923       24.3660  238.709              32.9649   \n",
              "2020-03-09 15:56:32      68.5207       24.3666  226.485              32.0362   \n",
              "2020-03-09 15:56:33      68.5425       24.3634  220.378              32.9649   \n",
              "2020-03-09 15:56:34      68.6569       24.3639  233.922              32.0000   \n",
              "\n",
              "                     anomaly  changepoint  \n",
              "datetime                                   \n",
              "2020-03-09 15:56:30      0.0          0.0  \n",
              "2020-03-09 15:56:31      0.0          0.0  \n",
              "2020-03-09 15:56:32      0.0          0.0  \n",
              "2020-03-09 15:56:33      0.0          0.0  \n",
              "2020-03-09 15:56:34      0.0          0.0  "
            ],
            "text/html": [
              "\n",
              "  <div id=\"df-44bfbe64-3311-4fe5-bc16-d4992f4cb247\">\n",
              "    <div class=\"colab-df-container\">\n",
              "      <div>\n",
              "<style scoped>\n",
              "    .dataframe tbody tr th:only-of-type {\n",
              "        vertical-align: middle;\n",
              "    }\n",
              "\n",
              "    .dataframe tbody tr th {\n",
              "        vertical-align: top;\n",
              "    }\n",
              "\n",
              "    .dataframe thead th {\n",
              "        text-align: right;\n",
              "    }\n",
              "</style>\n",
              "<table border=\"1\" class=\"dataframe\">\n",
              "  <thead>\n",
              "    <tr style=\"text-align: right;\">\n",
              "      <th></th>\n",
              "      <th>Accelerometer1RMS</th>\n",
              "      <th>Accelerometer2RMS</th>\n",
              "      <th>Current</th>\n",
              "      <th>Pressure</th>\n",
              "      <th>Temperature</th>\n",
              "      <th>Thermocouple</th>\n",
              "      <th>Voltage</th>\n",
              "      <th>Volume Flow RateRMS</th>\n",
              "      <th>anomaly</th>\n",
              "      <th>changepoint</th>\n",
              "    </tr>\n",
              "    <tr>\n",
              "      <th>datetime</th>\n",
              "      <th></th>\n",
              "      <th></th>\n",
              "      <th></th>\n",
              "      <th></th>\n",
              "      <th></th>\n",
              "      <th></th>\n",
              "      <th></th>\n",
              "      <th></th>\n",
              "      <th></th>\n",
              "      <th></th>\n",
              "    </tr>\n",
              "  </thead>\n",
              "  <tbody>\n",
              "    <tr>\n",
              "      <th>2020-03-09 15:56:30</th>\n",
              "      <td>0.027608</td>\n",
              "      <td>0.039203</td>\n",
              "      <td>1.290480</td>\n",
              "      <td>0.054711</td>\n",
              "      <td>68.6194</td>\n",
              "      <td>24.3670</td>\n",
              "      <td>241.062</td>\n",
              "      <td>32.0362</td>\n",
              "      <td>0.0</td>\n",
              "      <td>0.0</td>\n",
              "    </tr>\n",
              "    <tr>\n",
              "      <th>2020-03-09 15:56:31</th>\n",
              "      <td>0.027166</td>\n",
              "      <td>0.039940</td>\n",
              "      <td>1.285650</td>\n",
              "      <td>0.382638</td>\n",
              "      <td>68.5923</td>\n",
              "      <td>24.3660</td>\n",
              "      <td>238.709</td>\n",
              "      <td>32.9649</td>\n",
              "      <td>0.0</td>\n",
              "      <td>0.0</td>\n",
              "    </tr>\n",
              "    <tr>\n",
              "      <th>2020-03-09 15:56:32</th>\n",
              "      <td>0.027718</td>\n",
              "      <td>0.040167</td>\n",
              "      <td>1.155880</td>\n",
              "      <td>0.054711</td>\n",
              "      <td>68.5207</td>\n",
              "      <td>24.3666</td>\n",
              "      <td>226.485</td>\n",
              "      <td>32.0362</td>\n",
              "      <td>0.0</td>\n",
              "      <td>0.0</td>\n",
              "    </tr>\n",
              "    <tr>\n",
              "      <th>2020-03-09 15:56:33</th>\n",
              "      <td>0.028045</td>\n",
              "      <td>0.038026</td>\n",
              "      <td>0.971268</td>\n",
              "      <td>0.382638</td>\n",
              "      <td>68.5425</td>\n",
              "      <td>24.3634</td>\n",
              "      <td>220.378</td>\n",
              "      <td>32.9649</td>\n",
              "      <td>0.0</td>\n",
              "      <td>0.0</td>\n",
              "    </tr>\n",
              "    <tr>\n",
              "      <th>2020-03-09 15:56:34</th>\n",
              "      <td>0.027644</td>\n",
              "      <td>0.038580</td>\n",
              "      <td>1.072460</td>\n",
              "      <td>-0.273216</td>\n",
              "      <td>68.6569</td>\n",
              "      <td>24.3639</td>\n",
              "      <td>233.922</td>\n",
              "      <td>32.0000</td>\n",
              "      <td>0.0</td>\n",
              "      <td>0.0</td>\n",
              "    </tr>\n",
              "  </tbody>\n",
              "</table>\n",
              "</div>\n",
              "      <button class=\"colab-df-convert\" onclick=\"convertToInteractive('df-44bfbe64-3311-4fe5-bc16-d4992f4cb247')\"\n",
              "              title=\"Convert this dataframe to an interactive table.\"\n",
              "              style=\"display:none;\">\n",
              "        \n",
              "  <svg xmlns=\"http://www.w3.org/2000/svg\" height=\"24px\"viewBox=\"0 0 24 24\"\n",
              "       width=\"24px\">\n",
              "    <path d=\"M0 0h24v24H0V0z\" fill=\"none\"/>\n",
              "    <path d=\"M18.56 5.44l.94 2.06.94-2.06 2.06-.94-2.06-.94-.94-2.06-.94 2.06-2.06.94zm-11 1L8.5 8.5l.94-2.06 2.06-.94-2.06-.94L8.5 2.5l-.94 2.06-2.06.94zm10 10l.94 2.06.94-2.06 2.06-.94-2.06-.94-.94-2.06-.94 2.06-2.06.94z\"/><path d=\"M17.41 7.96l-1.37-1.37c-.4-.4-.92-.59-1.43-.59-.52 0-1.04.2-1.43.59L10.3 9.45l-7.72 7.72c-.78.78-.78 2.05 0 2.83L4 21.41c.39.39.9.59 1.41.59.51 0 1.02-.2 1.41-.59l7.78-7.78 2.81-2.81c.8-.78.8-2.07 0-2.86zM5.41 20L4 18.59l7.72-7.72 1.47 1.35L5.41 20z\"/>\n",
              "  </svg>\n",
              "      </button>\n",
              "      \n",
              "  <style>\n",
              "    .colab-df-container {\n",
              "      display:flex;\n",
              "      flex-wrap:wrap;\n",
              "      gap: 12px;\n",
              "    }\n",
              "\n",
              "    .colab-df-convert {\n",
              "      background-color: #E8F0FE;\n",
              "      border: none;\n",
              "      border-radius: 50%;\n",
              "      cursor: pointer;\n",
              "      display: none;\n",
              "      fill: #1967D2;\n",
              "      height: 32px;\n",
              "      padding: 0 0 0 0;\n",
              "      width: 32px;\n",
              "    }\n",
              "\n",
              "    .colab-df-convert:hover {\n",
              "      background-color: #E2EBFA;\n",
              "      box-shadow: 0px 1px 2px rgba(60, 64, 67, 0.3), 0px 1px 3px 1px rgba(60, 64, 67, 0.15);\n",
              "      fill: #174EA6;\n",
              "    }\n",
              "\n",
              "    [theme=dark] .colab-df-convert {\n",
              "      background-color: #3B4455;\n",
              "      fill: #D2E3FC;\n",
              "    }\n",
              "\n",
              "    [theme=dark] .colab-df-convert:hover {\n",
              "      background-color: #434B5C;\n",
              "      box-shadow: 0px 1px 3px 1px rgba(0, 0, 0, 0.15);\n",
              "      filter: drop-shadow(0px 1px 2px rgba(0, 0, 0, 0.3));\n",
              "      fill: #FFFFFF;\n",
              "    }\n",
              "  </style>\n",
              "\n",
              "      <script>\n",
              "        const buttonEl =\n",
              "          document.querySelector('#df-44bfbe64-3311-4fe5-bc16-d4992f4cb247 button.colab-df-convert');\n",
              "        buttonEl.style.display =\n",
              "          google.colab.kernel.accessAllowed ? 'block' : 'none';\n",
              "\n",
              "        async function convertToInteractive(key) {\n",
              "          const element = document.querySelector('#df-44bfbe64-3311-4fe5-bc16-d4992f4cb247');\n",
              "          const dataTable =\n",
              "            await google.colab.kernel.invokeFunction('convertToInteractive',\n",
              "                                                     [key], {});\n",
              "          if (!dataTable) return;\n",
              "\n",
              "          const docLinkHtml = 'Like what you see? Visit the ' +\n",
              "            '<a target=\"_blank\" href=https://colab.research.google.com/notebooks/data_table.ipynb>data table notebook</a>'\n",
              "            + ' to learn more about interactive tables.';\n",
              "          element.innerHTML = '';\n",
              "          dataTable['output_type'] = 'display_data';\n",
              "          await google.colab.output.renderOutput(dataTable, element);\n",
              "          const docLink = document.createElement('div');\n",
              "          docLink.innerHTML = docLinkHtml;\n",
              "          element.appendChild(docLink);\n",
              "        }\n",
              "      </script>\n",
              "    </div>\n",
              "  </div>\n",
              "  "
            ]
          },
          "metadata": {}
        }
      ]
    },
    {
      "cell_type": "markdown",
      "source": [
        "### Isolation Forest"
      ],
      "metadata": {
        "id": "jHl8OLAMZ6MW"
      }
    },
    {
      "cell_type": "code",
      "source": [
        "# classifier initializing\n",
        "from sklearn.ensemble import IsolationForest\n",
        "clf = IsolationForest(random_state=0, \n",
        "                      n_jobs=-1,\n",
        "                      contamination=0.01)"
      ],
      "metadata": {
        "id": "4sdWvlAyZx3B"
      },
      "execution_count": 11,
      "outputs": []
    },
    {
      "cell_type": "code",
      "source": [
        "# inference\n",
        "predicted_outlier, predicted_cp = [], []\n",
        "for df in anomalous_data:\n",
        "    X_train = df[:400].drop(['anomaly','changepoint'], axis=1)\n",
        "    \n",
        "    # classifier fitting\n",
        "    clf.fit(X_train)\n",
        "\n",
        "    # results predicting\n",
        "    prediction = pd.Series(clf.predict(df.drop(['anomaly','changepoint'], axis=1))*-1, \n",
        "                                index=df.index).rolling(3).median().fillna(0).replace(-1,0)\n",
        "    \n",
        "    # predicted outliers saving\n",
        "    predicted_outlier.append(prediction)\n",
        "    \n",
        "    # predicted CPs saving\n",
        "    prediction_cp = abs(prediction.diff())\n",
        "    prediction_cp[0] = prediction[0]\n",
        "    predicted_cp.append(prediction_cp)"
      ],
      "metadata": {
        "id": "FWXFk9KsdAXN"
      },
      "execution_count": 12,
      "outputs": []
    },
    {
      "cell_type": "code",
      "source": [
        "X_train = anomalous_data[0].drop(['anomaly','changepoint'], axis=1)"
      ],
      "metadata": {
        "id": "_CCXCUKBaXxF"
      },
      "execution_count": 13,
      "outputs": []
    },
    {
      "cell_type": "code",
      "source": [
        "X_train"
      ],
      "metadata": {
        "colab": {
          "base_uri": "https://localhost:8080/",
          "height": 455
        },
        "id": "UWQOzNOldTiB",
        "outputId": "e8808ef3-4d12-4816-d1cd-ca19eae2735f"
      },
      "execution_count": 14,
      "outputs": [
        {
          "output_type": "execute_result",
          "data": {
            "text/plain": [
              "                     Accelerometer1RMS  Accelerometer2RMS   Current  Pressure  \\\n",
              "datetime                                                                        \n",
              "2020-03-09 15:56:30           0.027608           0.039203  1.290480  0.054711   \n",
              "2020-03-09 15:56:31           0.027166           0.039940  1.285650  0.382638   \n",
              "2020-03-09 15:56:32           0.027718           0.040167  1.155880  0.054711   \n",
              "2020-03-09 15:56:33           0.028045           0.038026  0.971268  0.382638   \n",
              "2020-03-09 15:56:34           0.027644           0.038580  1.072460 -0.273216   \n",
              "...                                ...                ...       ...       ...   \n",
              "2020-03-09 16:16:25           0.027446           0.039528  0.678398  0.382638   \n",
              "2020-03-09 16:16:26           0.028101           0.038690  0.858077  0.382638   \n",
              "2020-03-09 16:16:27           0.028037           0.039878  0.567099  0.054711   \n",
              "2020-03-09 16:16:28           0.027901           0.042154  0.652006 -0.273216   \n",
              "2020-03-09 16:16:29           0.027820           0.041096  0.834643  0.054711   \n",
              "\n",
              "                     Temperature  Thermocouple  Voltage  Volume Flow RateRMS  \n",
              "datetime                                                                      \n",
              "2020-03-09 15:56:30      68.6194       24.3670  241.062              32.0362  \n",
              "2020-03-09 15:56:31      68.5923       24.3660  238.709              32.9649  \n",
              "2020-03-09 15:56:32      68.5207       24.3666  226.485              32.0362  \n",
              "2020-03-09 15:56:33      68.5425       24.3634  220.378              32.9649  \n",
              "2020-03-09 15:56:34      68.6569       24.3639  233.922              32.0000  \n",
              "...                          ...           ...      ...                  ...  \n",
              "2020-03-09 16:16:25      67.7144       24.3205  253.086              32.0000  \n",
              "2020-03-09 16:16:26      67.7998       24.3226  234.633              32.0384  \n",
              "2020-03-09 16:16:27      67.6625       24.3225  224.864              32.9627  \n",
              "2020-03-09 16:16:28      67.7782       24.3185  227.674              32.0000  \n",
              "2020-03-09 16:16:29      67.7838       24.3152  233.363              32.0000  \n",
              "\n",
              "[1125 rows x 8 columns]"
            ],
            "text/html": [
              "\n",
              "  <div id=\"df-b81b2217-eb6a-4251-9418-c2e32dca778b\">\n",
              "    <div class=\"colab-df-container\">\n",
              "      <div>\n",
              "<style scoped>\n",
              "    .dataframe tbody tr th:only-of-type {\n",
              "        vertical-align: middle;\n",
              "    }\n",
              "\n",
              "    .dataframe tbody tr th {\n",
              "        vertical-align: top;\n",
              "    }\n",
              "\n",
              "    .dataframe thead th {\n",
              "        text-align: right;\n",
              "    }\n",
              "</style>\n",
              "<table border=\"1\" class=\"dataframe\">\n",
              "  <thead>\n",
              "    <tr style=\"text-align: right;\">\n",
              "      <th></th>\n",
              "      <th>Accelerometer1RMS</th>\n",
              "      <th>Accelerometer2RMS</th>\n",
              "      <th>Current</th>\n",
              "      <th>Pressure</th>\n",
              "      <th>Temperature</th>\n",
              "      <th>Thermocouple</th>\n",
              "      <th>Voltage</th>\n",
              "      <th>Volume Flow RateRMS</th>\n",
              "    </tr>\n",
              "    <tr>\n",
              "      <th>datetime</th>\n",
              "      <th></th>\n",
              "      <th></th>\n",
              "      <th></th>\n",
              "      <th></th>\n",
              "      <th></th>\n",
              "      <th></th>\n",
              "      <th></th>\n",
              "      <th></th>\n",
              "    </tr>\n",
              "  </thead>\n",
              "  <tbody>\n",
              "    <tr>\n",
              "      <th>2020-03-09 15:56:30</th>\n",
              "      <td>0.027608</td>\n",
              "      <td>0.039203</td>\n",
              "      <td>1.290480</td>\n",
              "      <td>0.054711</td>\n",
              "      <td>68.6194</td>\n",
              "      <td>24.3670</td>\n",
              "      <td>241.062</td>\n",
              "      <td>32.0362</td>\n",
              "    </tr>\n",
              "    <tr>\n",
              "      <th>2020-03-09 15:56:31</th>\n",
              "      <td>0.027166</td>\n",
              "      <td>0.039940</td>\n",
              "      <td>1.285650</td>\n",
              "      <td>0.382638</td>\n",
              "      <td>68.5923</td>\n",
              "      <td>24.3660</td>\n",
              "      <td>238.709</td>\n",
              "      <td>32.9649</td>\n",
              "    </tr>\n",
              "    <tr>\n",
              "      <th>2020-03-09 15:56:32</th>\n",
              "      <td>0.027718</td>\n",
              "      <td>0.040167</td>\n",
              "      <td>1.155880</td>\n",
              "      <td>0.054711</td>\n",
              "      <td>68.5207</td>\n",
              "      <td>24.3666</td>\n",
              "      <td>226.485</td>\n",
              "      <td>32.0362</td>\n",
              "    </tr>\n",
              "    <tr>\n",
              "      <th>2020-03-09 15:56:33</th>\n",
              "      <td>0.028045</td>\n",
              "      <td>0.038026</td>\n",
              "      <td>0.971268</td>\n",
              "      <td>0.382638</td>\n",
              "      <td>68.5425</td>\n",
              "      <td>24.3634</td>\n",
              "      <td>220.378</td>\n",
              "      <td>32.9649</td>\n",
              "    </tr>\n",
              "    <tr>\n",
              "      <th>2020-03-09 15:56:34</th>\n",
              "      <td>0.027644</td>\n",
              "      <td>0.038580</td>\n",
              "      <td>1.072460</td>\n",
              "      <td>-0.273216</td>\n",
              "      <td>68.6569</td>\n",
              "      <td>24.3639</td>\n",
              "      <td>233.922</td>\n",
              "      <td>32.0000</td>\n",
              "    </tr>\n",
              "    <tr>\n",
              "      <th>...</th>\n",
              "      <td>...</td>\n",
              "      <td>...</td>\n",
              "      <td>...</td>\n",
              "      <td>...</td>\n",
              "      <td>...</td>\n",
              "      <td>...</td>\n",
              "      <td>...</td>\n",
              "      <td>...</td>\n",
              "    </tr>\n",
              "    <tr>\n",
              "      <th>2020-03-09 16:16:25</th>\n",
              "      <td>0.027446</td>\n",
              "      <td>0.039528</td>\n",
              "      <td>0.678398</td>\n",
              "      <td>0.382638</td>\n",
              "      <td>67.7144</td>\n",
              "      <td>24.3205</td>\n",
              "      <td>253.086</td>\n",
              "      <td>32.0000</td>\n",
              "    </tr>\n",
              "    <tr>\n",
              "      <th>2020-03-09 16:16:26</th>\n",
              "      <td>0.028101</td>\n",
              "      <td>0.038690</td>\n",
              "      <td>0.858077</td>\n",
              "      <td>0.382638</td>\n",
              "      <td>67.7998</td>\n",
              "      <td>24.3226</td>\n",
              "      <td>234.633</td>\n",
              "      <td>32.0384</td>\n",
              "    </tr>\n",
              "    <tr>\n",
              "      <th>2020-03-09 16:16:27</th>\n",
              "      <td>0.028037</td>\n",
              "      <td>0.039878</td>\n",
              "      <td>0.567099</td>\n",
              "      <td>0.054711</td>\n",
              "      <td>67.6625</td>\n",
              "      <td>24.3225</td>\n",
              "      <td>224.864</td>\n",
              "      <td>32.9627</td>\n",
              "    </tr>\n",
              "    <tr>\n",
              "      <th>2020-03-09 16:16:28</th>\n",
              "      <td>0.027901</td>\n",
              "      <td>0.042154</td>\n",
              "      <td>0.652006</td>\n",
              "      <td>-0.273216</td>\n",
              "      <td>67.7782</td>\n",
              "      <td>24.3185</td>\n",
              "      <td>227.674</td>\n",
              "      <td>32.0000</td>\n",
              "    </tr>\n",
              "    <tr>\n",
              "      <th>2020-03-09 16:16:29</th>\n",
              "      <td>0.027820</td>\n",
              "      <td>0.041096</td>\n",
              "      <td>0.834643</td>\n",
              "      <td>0.054711</td>\n",
              "      <td>67.7838</td>\n",
              "      <td>24.3152</td>\n",
              "      <td>233.363</td>\n",
              "      <td>32.0000</td>\n",
              "    </tr>\n",
              "  </tbody>\n",
              "</table>\n",
              "<p>1125 rows × 8 columns</p>\n",
              "</div>\n",
              "      <button class=\"colab-df-convert\" onclick=\"convertToInteractive('df-b81b2217-eb6a-4251-9418-c2e32dca778b')\"\n",
              "              title=\"Convert this dataframe to an interactive table.\"\n",
              "              style=\"display:none;\">\n",
              "        \n",
              "  <svg xmlns=\"http://www.w3.org/2000/svg\" height=\"24px\"viewBox=\"0 0 24 24\"\n",
              "       width=\"24px\">\n",
              "    <path d=\"M0 0h24v24H0V0z\" fill=\"none\"/>\n",
              "    <path d=\"M18.56 5.44l.94 2.06.94-2.06 2.06-.94-2.06-.94-.94-2.06-.94 2.06-2.06.94zm-11 1L8.5 8.5l.94-2.06 2.06-.94-2.06-.94L8.5 2.5l-.94 2.06-2.06.94zm10 10l.94 2.06.94-2.06 2.06-.94-2.06-.94-.94-2.06-.94 2.06-2.06.94z\"/><path d=\"M17.41 7.96l-1.37-1.37c-.4-.4-.92-.59-1.43-.59-.52 0-1.04.2-1.43.59L10.3 9.45l-7.72 7.72c-.78.78-.78 2.05 0 2.83L4 21.41c.39.39.9.59 1.41.59.51 0 1.02-.2 1.41-.59l7.78-7.78 2.81-2.81c.8-.78.8-2.07 0-2.86zM5.41 20L4 18.59l7.72-7.72 1.47 1.35L5.41 20z\"/>\n",
              "  </svg>\n",
              "      </button>\n",
              "      \n",
              "  <style>\n",
              "    .colab-df-container {\n",
              "      display:flex;\n",
              "      flex-wrap:wrap;\n",
              "      gap: 12px;\n",
              "    }\n",
              "\n",
              "    .colab-df-convert {\n",
              "      background-color: #E8F0FE;\n",
              "      border: none;\n",
              "      border-radius: 50%;\n",
              "      cursor: pointer;\n",
              "      display: none;\n",
              "      fill: #1967D2;\n",
              "      height: 32px;\n",
              "      padding: 0 0 0 0;\n",
              "      width: 32px;\n",
              "    }\n",
              "\n",
              "    .colab-df-convert:hover {\n",
              "      background-color: #E2EBFA;\n",
              "      box-shadow: 0px 1px 2px rgba(60, 64, 67, 0.3), 0px 1px 3px 1px rgba(60, 64, 67, 0.15);\n",
              "      fill: #174EA6;\n",
              "    }\n",
              "\n",
              "    [theme=dark] .colab-df-convert {\n",
              "      background-color: #3B4455;\n",
              "      fill: #D2E3FC;\n",
              "    }\n",
              "\n",
              "    [theme=dark] .colab-df-convert:hover {\n",
              "      background-color: #434B5C;\n",
              "      box-shadow: 0px 1px 3px 1px rgba(0, 0, 0, 0.15);\n",
              "      filter: drop-shadow(0px 1px 2px rgba(0, 0, 0, 0.3));\n",
              "      fill: #FFFFFF;\n",
              "    }\n",
              "  </style>\n",
              "\n",
              "      <script>\n",
              "        const buttonEl =\n",
              "          document.querySelector('#df-b81b2217-eb6a-4251-9418-c2e32dca778b button.colab-df-convert');\n",
              "        buttonEl.style.display =\n",
              "          google.colab.kernel.accessAllowed ? 'block' : 'none';\n",
              "\n",
              "        async function convertToInteractive(key) {\n",
              "          const element = document.querySelector('#df-b81b2217-eb6a-4251-9418-c2e32dca778b');\n",
              "          const dataTable =\n",
              "            await google.colab.kernel.invokeFunction('convertToInteractive',\n",
              "                                                     [key], {});\n",
              "          if (!dataTable) return;\n",
              "\n",
              "          const docLinkHtml = 'Like what you see? Visit the ' +\n",
              "            '<a target=\"_blank\" href=https://colab.research.google.com/notebooks/data_table.ipynb>data table notebook</a>'\n",
              "            + ' to learn more about interactive tables.';\n",
              "          element.innerHTML = '';\n",
              "          dataTable['output_type'] = 'display_data';\n",
              "          await google.colab.output.renderOutput(dataTable, element);\n",
              "          const docLink = document.createElement('div');\n",
              "          docLink.innerHTML = docLinkHtml;\n",
              "          element.appendChild(docLink);\n",
              "        }\n",
              "      </script>\n",
              "    </div>\n",
              "  </div>\n",
              "  "
            ]
          },
          "metadata": {},
          "execution_count": 14
        }
      ]
    },
    {
      "cell_type": "code",
      "source": [
        "clf.fit(X_train[:400])"
      ],
      "metadata": {
        "colab": {
          "base_uri": "https://localhost:8080/"
        },
        "id": "fIL0-JrAdW8y",
        "outputId": "e82392f4-ac8e-49cc-adfb-f2804fa59897"
      },
      "execution_count": 15,
      "outputs": [
        {
          "output_type": "execute_result",
          "data": {
            "text/plain": [
              "IsolationForest(contamination=0.01, n_jobs=-1, random_state=0)"
            ]
          },
          "metadata": {},
          "execution_count": 15
        }
      ]
    },
    {
      "cell_type": "code",
      "source": [
        "prediction = pd.Series(clf.predict(anomalous_data[0].drop(['anomaly','changepoint'], axis=1))*-1, \n",
        "                                index=anomalous_data[0].index).rolling(3).median().fillna(0).replace(-1,0)"
      ],
      "metadata": {
        "id": "UsFHf4Yhd00B"
      },
      "execution_count": 16,
      "outputs": []
    },
    {
      "cell_type": "code",
      "source": [
        "prediction"
      ],
      "metadata": {
        "colab": {
          "base_uri": "https://localhost:8080/"
        },
        "id": "FwtazvQveOHQ",
        "outputId": "cdb9d97a-ef5c-4056-9c4f-9fcd70544876"
      },
      "execution_count": 17,
      "outputs": [
        {
          "output_type": "execute_result",
          "data": {
            "text/plain": [
              "datetime\n",
              "2020-03-09 15:56:30    0.0\n",
              "2020-03-09 15:56:31    0.0\n",
              "2020-03-09 15:56:32    0.0\n",
              "2020-03-09 15:56:33    0.0\n",
              "2020-03-09 15:56:34    0.0\n",
              "                      ... \n",
              "2020-03-09 16:16:25    1.0\n",
              "2020-03-09 16:16:26    1.0\n",
              "2020-03-09 16:16:27    1.0\n",
              "2020-03-09 16:16:28    1.0\n",
              "2020-03-09 16:16:29    0.0\n",
              "Length: 1125, dtype: float64"
            ]
          },
          "metadata": {},
          "execution_count": 17
        }
      ]
    },
    {
      "cell_type": "code",
      "source": [
        "prediction_cp = abs(prediction.diff())\n",
        "prediction_cp[0] = prediction[0]"
      ],
      "metadata": {
        "id": "1VxKInmIeWE3"
      },
      "execution_count": 18,
      "outputs": []
    },
    {
      "cell_type": "code",
      "source": [
        "sum(prediction)"
      ],
      "metadata": {
        "colab": {
          "base_uri": "https://localhost:8080/"
        },
        "id": "HUonX-d3e6Lm",
        "outputId": "2f120574-9fc5-4d1b-a565-b66ae5b256e0"
      },
      "execution_count": 19,
      "outputs": [
        {
          "output_type": "execute_result",
          "data": {
            "text/plain": [
              "278.0"
            ]
          },
          "metadata": {},
          "execution_count": 19
        }
      ]
    },
    {
      "cell_type": "code",
      "source": [
        "prediction.plot(figsize=(12,3), label='predictions', marker='o', markersize=5)\n",
        "anomalous_data[0].anomaly.plot(marker='o', markersize=2)\n",
        "plt.legend();"
      ],
      "metadata": {
        "colab": {
          "base_uri": "https://localhost:8080/",
          "height": 230
        },
        "id": "JJx0WQAJfINe",
        "outputId": "6b4701b7-1d9f-4fcf-91be-557497aed104"
      },
      "execution_count": 20,
      "outputs": [
        {
          "output_type": "display_data",
          "data": {
            "text/plain": [
              "<Figure size 864x216 with 1 Axes>"
            ],
            "image/png": "[encoded data removed]"
          },
          "metadata": {
            "needs_background": "light"
          }
        }
      ]
    },
    {
      "cell_type": "code",
      "source": [
        "from sklearn.metrics import classification_report,accuracy_score\n",
        "print(accuracy_score(anomalous_data[0].anomaly,prediction))\n",
        "print(\"Classification Report :\")\n",
        "print(classification_report(anomalous_data[0].anomaly,prediction))"
      ],
      "metadata": {
        "colab": {
          "base_uri": "https://localhost:8080/"
        },
        "id": "ibDr5RPVfcB5",
        "outputId": "2b07df28-a6e6-47e7-996c-8702716dbde3"
      },
      "execution_count": 21,
      "outputs": [
        {
          "output_type": "stream",
          "name": "stdout",
          "text": [
            "0.7173333333333334\n",
            "Classification Report :\n",
            "              precision    recall  f1-score   support\n",
            "\n",
            "         0.0       0.74      0.86      0.80       731\n",
            "         1.0       0.64      0.45      0.53       394\n",
            "\n",
            "    accuracy                           0.72      1125\n",
            "   macro avg       0.69      0.66      0.66      1125\n",
            "weighted avg       0.71      0.72      0.70      1125\n",
            "\n"
          ]
        }
      ]
    },
    {
      "cell_type": "code",
      "source": [
        "def evaluating_change_point(true, prediction, metric='binary', numenta_time=None):\n",
        "    \"\"\"\n",
        "    true - both:\n",
        "                list of pandas Series with binary int labels\n",
        "                pandas Series with binary int labels\n",
        "    prediction - both:\n",
        "                      list of pandas Series with binary int labels\n",
        "                      pandas Series with binary int labels\n",
        "    metric: 'nab', 'binary' (FAR, MAR), 'average_delay'\n",
        "                \n",
        "    \"\"\"\n",
        "    \n",
        "    def binary(true, prediction):      \n",
        "        \"\"\"\n",
        "        true - true binary series with 1 as anomalies\n",
        "        prediction - trupredicted binary series with 1 as anomalies\n",
        "        \"\"\"\n",
        "        def single_binary(true,prediction):\n",
        "          true_ = true == 1 \n",
        "          prediction_ = prediction == 1\n",
        "          TP = (true_ & prediction_).sum()\n",
        "          TN = (~true_ & ~prediction_).sum()\n",
        "          FP = (~true_ & prediction_).sum()\n",
        "          FN = (true_ & ~prediction_).sum()\n",
        "          return TP,TN,FP,FN\n",
        "            \n",
        "        if type(true) != type(list()):\n",
        "            TP,TN,FP,FN = single_binary(true,prediction)\n",
        "        else:\n",
        "            TP,TN,FP,FN = 0,0,0,0\n",
        "            for i in range(len(true)):\n",
        "                TP_,TN_,FP_,FN_ = single_binary(true[i],prediction[i])\n",
        "                TP,TN,FP,FN = TP+TP_,TN+TN_,FP+FP_,FN+FN_       \n",
        "    \n",
        "        f1 = round(TP/(TP+(FN+FP)/2), 2)\n",
        "        print(f'False Alarm Rate {round(FP/(FP+TN)*100,2)} %' )\n",
        "        print(f'Missing Alarm Rate {round(FN/(FN+TP)*100,2)} %')\n",
        "        print(f'F1 metric {f1}')\n",
        "        return f1\n",
        "    return binary(true, prediction)"
      ],
      "metadata": {
        "id": "hc5nZVaGjFzT"
      },
      "execution_count": 22,
      "outputs": []
    },
    {
      "cell_type": "code",
      "source": [
        "true_outlier = [df.anomaly for df in anomalous_data]"
      ],
      "metadata": {
        "id": "k6RX3Z8LggKF"
      },
      "execution_count": 23,
      "outputs": []
    },
    {
      "cell_type": "code",
      "source": [
        "binary = evaluating_change_point(true_outlier,predicted_outlier, metric='binary')"
      ],
      "metadata": {
        "colab": {
          "base_uri": "https://localhost:8080/"
        },
        "id": "Z_AS1h0rjJtD",
        "outputId": "9b93cd9c-7cc0-465c-a6d8-0d29f3912592"
      },
      "execution_count": 24,
      "outputs": [
        {
          "output_type": "stream",
          "name": "stdout",
          "text": [
            "False Alarm Rate 4.4 %\n",
            "Missing Alarm Rate 63.54 %\n",
            "F1 metric 0.5\n"
          ]
        }
      ]
    },
    {
      "cell_type": "markdown",
      "source": [
        "### PyOD"
      ],
      "metadata": {
        "id": "V3Sl_w_LY9zv"
      }
    },
    {
      "cell_type": "code",
      "source": [
        "!pip install combo"
      ],
      "metadata": {
        "colab": {
          "base_uri": "https://localhost:8080/"
        },
        "id": "vMyQaUpNanK-",
        "outputId": "92895fd9-4114-4503-d184-d6ca88272f26"
      },
      "execution_count": 26,
      "outputs": [
        {
          "output_type": "stream",
          "name": "stdout",
          "text": [
            "Looking in indexes: https://pypi.org/simple, https://us-python.pkg.dev/colab-wheels/public/simple/\n",
            "Requirement already satisfied: combo in /usr/local/lib/python3.8/dist-packages (0.1.3)\n",
            "Requirement already satisfied: numpy>=1.13 in /usr/local/lib/python3.8/dist-packages (from combo) (1.21.6)\n",
            "Requirement already satisfied: matplotlib in /usr/local/lib/python3.8/dist-packages (from combo) (3.2.2)\n",
            "Requirement already satisfied: joblib in /usr/local/lib/python3.8/dist-packages (from combo) (1.2.0)\n",
            "Requirement already satisfied: scipy in /usr/local/lib/python3.8/dist-packages (from combo) (1.7.3)\n",
            "Requirement already satisfied: numba>=0.35 in /usr/local/lib/python3.8/dist-packages (from combo) (0.56.4)\n",
            "Requirement already satisfied: scikit-learn>=0.20 in /usr/local/lib/python3.8/dist-packages (from combo) (1.0.2)\n",
            "Requirement already satisfied: pyod in /usr/local/lib/python3.8/dist-packages (from combo) (1.0.6)\n",
            "Requirement already satisfied: setuptools in /usr/local/lib/python3.8/dist-packages (from numba>=0.35->combo) (57.4.0)\n",
            "Requirement already satisfied: llvmlite<0.40,>=0.39.0dev0 in /usr/local/lib/python3.8/dist-packages (from numba>=0.35->combo) (0.39.1)\n",
            "Requirement already satisfied: importlib-metadata in /usr/local/lib/python3.8/dist-packages (from numba>=0.35->combo) (4.13.0)\n",
            "Requirement already satisfied: threadpoolctl>=2.0.0 in /usr/local/lib/python3.8/dist-packages (from scikit-learn>=0.20->combo) (3.1.0)\n",
            "Requirement already satisfied: zipp>=0.5 in /usr/local/lib/python3.8/dist-packages (from importlib-metadata->numba>=0.35->combo) (3.11.0)\n",
            "Requirement already satisfied: python-dateutil>=2.1 in /usr/local/lib/python3.8/dist-packages (from matplotlib->combo) (2.8.2)\n",
            "Requirement already satisfied: cycler>=0.10 in /usr/local/lib/python3.8/dist-packages (from matplotlib->combo) (0.11.0)\n",
            "Requirement already satisfied: pyparsing!=2.0.4,!=2.1.2,!=2.1.6,>=2.0.1 in /usr/local/lib/python3.8/dist-packages (from matplotlib->combo) (3.0.9)\n",
            "Requirement already satisfied: kiwisolver>=1.0.1 in /usr/local/lib/python3.8/dist-packages (from matplotlib->combo) (1.4.4)\n",
            "Requirement already satisfied: six>=1.5 in /usr/local/lib/python3.8/dist-packages (from python-dateutil>=2.1->matplotlib->combo) (1.15.0)\n",
            "Requirement already satisfied: statsmodels in /usr/local/lib/python3.8/dist-packages (from pyod->combo) (0.12.2)\n",
            "Requirement already satisfied: pandas>=0.21 in /usr/local/lib/python3.8/dist-packages (from statsmodels->pyod->combo) (1.3.5)\n",
            "Requirement already satisfied: patsy>=0.5 in /usr/local/lib/python3.8/dist-packages (from statsmodels->pyod->combo) (0.5.3)\n",
            "Requirement already satisfied: pytz>=2017.3 in /usr/local/lib/python3.8/dist-packages (from pandas>=0.21->statsmodels->pyod->combo) (2022.6)\n"
          ]
        }
      ]
    },
    {
      "cell_type": "code",
      "source": [
        "# Import all models\n",
        "from pyod.models.abod import ABOD\n",
        "from pyod.models.cblof import CBLOF\n",
        "from pyod.models.feature_bagging import FeatureBagging\n",
        "from pyod.models.hbos import HBOS\n",
        "from pyod.models.iforest import IForest\n",
        "from pyod.models.knn import KNN\n",
        "from pyod.models.lof import LOF\n",
        "from pyod.models.mcd import MCD\n",
        "from pyod.models.ocsvm import OCSVM\n",
        "from pyod.models.pca import PCA\n",
        "from pyod.models.lscp import LSCP\n",
        "from pyod.models.kde import KDE\n",
        "from pyod.models.lmdd import LMDD"
      ],
      "metadata": {
        "id": "TmIFfvseY8AS"
      },
      "execution_count": 27,
      "outputs": []
    },
    {
      "cell_type": "code",
      "source": [
        "random_state = np.random.RandomState(42)\n",
        "outliers_fraction = 0.10\n",
        "\n",
        "# initialize a set of detectors for LSCP\n",
        "detector_list = [LOF(n_neighbors=5), LOF(n_neighbors=10), LOF(n_neighbors=15),\n",
        "                 LOF(n_neighbors=20), LOF(n_neighbors=25), LOF(n_neighbors=30),\n",
        "                 LOF(n_neighbors=35), LOF(n_neighbors=40), LOF(n_neighbors=45),\n",
        "                 LOF(n_neighbors=50)]\n",
        "\n",
        "# Define nine outlier detection tools to be compared\n",
        "classifiers = {\n",
        "    'Angle-based Outlier Detector (ABOD)':\n",
        "        ABOD(contamination=outliers_fraction),\n",
        "    'Cluster-based Local Outlier Factor (CBLOF)':\n",
        "        CBLOF(contamination=outliers_fraction,\n",
        "              check_estimator=False, random_state=random_state),\n",
        "    'Feature Bagging':\n",
        "        FeatureBagging(LOF(n_neighbors=35),\n",
        "                       contamination=outliers_fraction,\n",
        "                       random_state=random_state),\n",
        "    'Histogram-base Outlier Detection (HBOS)': HBOS(\n",
        "        contamination=outliers_fraction),\n",
        "    'Isolation Forest': IForest(contamination=outliers_fraction,\n",
        "                                random_state=random_state),\n",
        "    'K Nearest Neighbors (KNN)': KNN(\n",
        "        contamination=outliers_fraction),\n",
        "    'Average KNN': KNN(method='mean',\n",
        "                       contamination=outliers_fraction),\n",
        "    'Local Outlier Factor (LOF)':\n",
        "        LOF(n_neighbors=35, contamination=outliers_fraction),\n",
        "    'Minimum Covariance Determinant (MCD)': MCD(\n",
        "        contamination=outliers_fraction, random_state=random_state),\n",
        "    'One-class SVM (OCSVM)': OCSVM(contamination=outliers_fraction),\n",
        "    'Principal Component Analysis (PCA)': PCA(\n",
        "        contamination=outliers_fraction, random_state=random_state),\n",
        "    'Locally Selective Combination (LSCP)': LSCP(\n",
        "        detector_list, contamination=outliers_fraction,\n",
        "        random_state=random_state),\n",
        "    'KDE': KDE(contamination=outliers_fraction),\n",
        "}"
      ],
      "metadata": {
        "id": "57ewOxvva3zl"
      },
      "execution_count": 28,
      "outputs": []
    },
    {
      "cell_type": "code",
      "source": [
        "for i, clf in enumerate(classifiers.keys()):\n",
        "    print('Model', i + 1, clf)"
      ],
      "metadata": {
        "colab": {
          "base_uri": "https://localhost:8080/"
        },
        "id": "vteFvpVQdYqU",
        "outputId": "6962ceb3-5580-4294-8706-ce457bba5b10"
      },
      "execution_count": 30,
      "outputs": [
        {
          "output_type": "stream",
          "name": "stdout",
          "text": [
            "Model 1 Angle-based Outlier Detector (ABOD)\n",
            "Model 2 Cluster-based Local Outlier Factor (CBLOF)\n",
            "Model 3 Feature Bagging\n",
            "Model 4 Histogram-base Outlier Detection (HBOS)\n",
            "Model 5 Isolation Forest\n",
            "Model 6 K Nearest Neighbors (KNN)\n",
            "Model 7 Average KNN\n",
            "Model 8 Local Outlier Factor (LOF)\n",
            "Model 9 Minimum Covariance Determinant (MCD)\n",
            "Model 10 One-class SVM (OCSVM)\n",
            "Model 11 Principal Component Analysis (PCA)\n",
            "Model 12 Locally Selective Combination (LSCP)\n",
            "Model 13 KDE\n"
          ]
        }
      ]
    },
    {
      "cell_type": "code",
      "source": [
        "for i, (clf_name, clf) in enumerate(classifiers.items()):\n",
        "  predicted_outlier = []\n",
        "  print(i + 1, 'fitting', clf_name)\n",
        "  for df in anomalous_data:\n",
        "    X_train = df.drop(['anomaly','changepoint'], axis=1)\n",
        "    \n",
        "    # classifier fitting\n",
        "    clf.fit(X_train[:400])\n",
        "\n",
        "    # results predicting\n",
        "    prediction = pd.Series(clf.predict(df.drop(['anomaly','changepoint'], axis=1)),index=df.index)\n",
        "    # predicted outliers saving\n",
        "    predicted_outlier.append(prediction)\n",
        "  print(\"-\"*10, clf_name, \"results\", \"-\"*10)\n",
        "  evaluating_change_point(true_outlier,predicted_outlier, metric='binary')"
      ],
      "metadata": {
        "colab": {
          "base_uri": "https://localhost:8080/"
        },
        "id": "fOtVLRm-hjBM",
        "outputId": "1145e123-64bd-4ee8-dcec-c8bd5f16a501"
      },
      "execution_count": 29,
      "outputs": [
        {
          "output_type": "stream",
          "name": "stdout",
          "text": [
            "1 fitting Angle-based Outlier Detector (ABOD)\n",
            "---------- Angle-based Outlier Detector (ABOD) results ----------\n",
            "False Alarm Rate 22.94 %\n",
            "Missing Alarm Rate 21.01 %\n",
            "F1 metric 0.71\n",
            "2 fitting Cluster-based Local Outlier Factor (CBLOF)\n",
            "---------- Cluster-based Local Outlier Factor (CBLOF) results ----------\n",
            "False Alarm Rate 14.42 %\n",
            "Missing Alarm Rate 50.15 %\n",
            "F1 metric 0.56\n",
            "3 fitting Feature Bagging\n",
            "---------- Feature Bagging results ----------\n",
            "False Alarm Rate 21.8 %\n",
            "Missing Alarm Rate 23.12 %\n",
            "F1 metric 0.71\n",
            "4 fitting Histogram-base Outlier Detection (HBOS)\n",
            "---------- Histogram-base Outlier Detection (HBOS) results ----------\n",
            "False Alarm Rate 28.16 %\n",
            "Missing Alarm Rate 18.7 %\n",
            "F1 metric 0.7\n",
            "5 fitting Isolation Forest\n",
            "---------- Isolation Forest results ----------\n",
            "False Alarm Rate 27.18 %\n",
            "Missing Alarm Rate 20.71 %\n",
            "F1 metric 0.69\n",
            "6 fitting K Nearest Neighbors (KNN)\n",
            "---------- K Nearest Neighbors (KNN) results ----------\n",
            "False Alarm Rate 18.19 %\n",
            "Missing Alarm Rate 30.21 %\n",
            "F1 metric 0.69\n",
            "7 fitting Average KNN\n",
            "---------- Average KNN results ----------\n",
            "False Alarm Rate 16.73 %\n",
            "Missing Alarm Rate 25.69 %\n",
            "F1 metric 0.72\n",
            "8 fitting Local Outlier Factor (LOF)\n",
            "---------- Local Outlier Factor (LOF) results ----------\n",
            "False Alarm Rate 16.81 %\n",
            "Missing Alarm Rate 39.46 %\n",
            "F1 metric 0.63\n",
            "9 fitting Minimum Covariance Determinant (MCD)\n",
            "---------- Minimum Covariance Determinant (MCD) results ----------\n",
            "False Alarm Rate 27.4 %\n",
            "Missing Alarm Rate 15.82 %\n",
            "F1 metric 0.72\n",
            "10 fitting One-class SVM (OCSVM)\n",
            "---------- One-class SVM (OCSVM) results ----------\n",
            "False Alarm Rate 21.28 %\n",
            "Missing Alarm Rate 30.49 %\n",
            "F1 metric 0.66\n",
            "11 fitting Principal Component Analysis (PCA)\n",
            "---------- Principal Component Analysis (PCA) results ----------\n",
            "False Alarm Rate 31.71 %\n",
            "Missing Alarm Rate 10.71 %\n",
            "F1 metric 0.72\n",
            "12 fitting Locally Selective Combination (LSCP)\n",
            "---------- Locally Selective Combination (LSCP) results ----------\n",
            "False Alarm Rate 19.95 %\n",
            "Missing Alarm Rate 33.69 %\n",
            "F1 metric 0.65\n",
            "13 fitting KDE\n",
            "---------- KDE results ----------\n",
            "False Alarm Rate 20.4 %\n",
            "Missing Alarm Rate 33.24 %\n",
            "F1 metric 0.65\n"
          ]
        }
      ]
    }
  ]
}